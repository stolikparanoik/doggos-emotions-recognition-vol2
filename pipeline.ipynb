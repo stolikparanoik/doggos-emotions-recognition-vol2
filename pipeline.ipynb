{
 "metadata": {
  "language_info": {
   "codemirror_mode": {
    "name": "ipython",
    "version": 3
   },
   "file_extension": ".py",
   "mimetype": "text/x-python",
   "name": "python",
   "nbconvert_exporter": "python",
   "pygments_lexer": "ipython3",
   "version": "3.6.5-final"
  },
  "orig_nbformat": 2,
  "kernelspec": {
   "name": "python3",
   "display_name": "Python 3",
   "language": "python"
  }
 },
 "nbformat": 4,
 "nbformat_minor": 2,
 "cells": [
  {
   "cell_type": "code",
   "execution_count": 12,
   "metadata": {},
   "outputs": [],
   "source": [
    "from keras.models import load_model\n",
    "from keras.preprocessing import image\n",
    "import numpy as np\n",
    "import matplotlib as plt"
   ]
  },
  {
   "cell_type": "code",
   "execution_count": 18,
   "metadata": {},
   "outputs": [],
   "source": [
    "from matplotlib import pyplot as plt\n",
    "from matplotlib.patches import Rectangle\n",
    "from mrcnn.model import mold_image\n",
    "from mrcnn.model import MaskRCNN\n",
    "from numpy import expand_dims\n",
    "from doggosutils import PredictionConfig, DoggosDataset"
   ]
  },
  {
   "cell_type": "code",
   "execution_count": 39,
   "metadata": {},
   "outputs": [],
   "source": [
    "#image = dataset.load_image(i)\n",
    "img_path = r'croppeddata\\croppedsmiley\\smiley (1).jpg'\n",
    "image = plt.imread(img_path)    \n",
    "#image = image.load_img(img_path, target_size=(150, 150))\n",
    "\t\t# convert pixel values (e.g. center)\n",
    "fig = plt.Figure()\n",
    "ax = fig.add_subplot(121)\n",
    "ax.imshow(image)\n",
    "cfg = PredictionConfig()\n",
    "\n",
    "scaled_image = mold_image(image, cfg)\n",
    "\t\t# convert image into one sample\n",
    "sample = expand_dims(scaled_image, 0)\n",
    "\t\t# make prediction\n",
    "model = MaskRCNN(mode='inference', model_dir='./', config=cfg)\n",
    "# load model weights\n",
    "model_path = r'C:\\Users\\a.szlendak\\Desktop\\pg\\dogos-emotions-recognition-vol2\\mask_rcnn_kangaroo_cfg_0005.h5'\n",
    "model.load_weights(model_path, by_name=True)\n",
    "yhat = model.detect(sample, verbose=0)[0]\n",
    "\n",
    "#for box in yhat['rois']:\n",
    "\t\t\t# get coordinates\n",
    "yhat['rois']=[e for e in yhat['rois']][0]\n",
    "y1, x1, y2, x2 =yhat['rois']\n",
    "\t\t\t# calculate width and height of the box\n",
    "width, height = x2 - x1, y2 - y1\n",
    "\t\t\t# create the shape\n",
    "rect = Rectangle((x1, y1), width, height, fill=False, color='red')\n",
    "\t\t\t# draw the box\n",
    "ax.add_patch(rect)\n",
    "#ax.add_patch(rect)\n",
    "plt.show()"
   ]
  },
  {
   "cell_type": "code",
   "execution_count": 37,
   "metadata": {},
   "outputs": [],
   "source": [
    "yhat['rois']=[e for e in yhat['rois']][0]\r\n",
    "y1, x1, y2, x2 =yhat['rois']"
   ]
  },
  {
   "cell_type": "code",
   "execution_count": 38,
   "metadata": {},
   "outputs": [
    {
     "output_type": "execute_result",
     "data": {
      "text/plain": [
       "16"
      ]
     },
     "metadata": {},
     "execution_count": 38
    }
   ],
   "source": [
    "y1"
   ]
  },
  {
   "cell_type": "code",
   "execution_count": 9,
   "metadata": {},
   "outputs": [
    {
     "output_type": "stream",
     "name": "stdout",
     "text": [
      "[[0.01315907 0.13240959 0.10009111 0.7543403 ]]\nsmileyboy\n"
     ]
    }
   ],
   "source": [
    "categ = [\"angryboy\", \"goodboy\", 'sleepyboy', 'smileyboy']\n",
    "\n",
    "model_emotions = load_model('modelcool100.h5')\n",
    "\n",
    "\n",
    "img_path = r'croppeddata\\croppedsmiley\\smiley (1).jpg'\n",
    "img = image.load_img(img_path, target_size=(150, 150))\n",
    "img_tensor = image.img_to_array(img)\n",
    "img_tensor = np.expand_dims(img_tensor, axis=0)\n",
    "img_tensor /= 255.\n",
    "\n",
    "preds = model_emotions.predict(img_tensor)\n",
    "x = np.argmax(preds)\n",
    "print(preds)\n",
    "print(categ[x])\n"
   ]
  },
  {
   "cell_type": "code",
   "execution_count": null,
   "metadata": {},
   "outputs": [],
   "source": []
  }
 ]
}